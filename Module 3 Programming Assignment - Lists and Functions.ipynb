{
 "cells": [
  {
   "cell_type": "code",
   "execution_count": 5,
   "id": "0f32aab6-0045-4df2-a10f-db56711c8abb",
   "metadata": {},
   "outputs": [
    {
     "name": "stdout",
     "output_type": "stream",
     "text": [
      "['mozzarella', 'cinderella', 'salmonella']\n"
     ]
    }
   ],
   "source": [
    "#7.4\n",
    "#Initialize a list called things, and assign provided strings as elements of that list:\n",
    "things = [\"mozzarella\", \"cinderella\", \"salmonella\"]\n",
    "#Displaying the list that was created:\n",
    "print (things)"
   ]
  },
  {
   "cell_type": "code",
   "execution_count": 11,
   "id": "74adf695-30b3-4cd0-be70-33736ccd0057",
   "metadata": {},
   "outputs": [
    {
     "name": "stdout",
     "output_type": "stream",
     "text": [
      "['mozzarella', 'Cinderella', 'salmonella']\n"
     ]
    }
   ],
   "source": [
    "#7.5\n",
    "#Capitalize the second string element in the list that refers to a person:\n",
    "things[1]= things[1].capitalize()\n",
    "#Display the updated list with Cinderella now capitalized:\n",
    "print (things)\n",
    "\n"
   ]
  },
  {
   "cell_type": "code",
   "execution_count": 13,
   "id": "90b72355-bf0b-4c43-a7c7-b0b08cd54c10",
   "metadata": {},
   "outputs": [
    {
     "name": "stdout",
     "output_type": "stream",
     "text": [
      "['MOZZARELLA', 'Cinderella', 'salmonella']\n"
     ]
    }
   ],
   "source": [
    "#7.6\n",
    "#Make the first element in the list all uppercase that refers to \"cheesy\":\n",
    "things[0] = things[0].upper()\n",
    "#Display the update list after changing the first element to all uppercase:\n",
    "print (things)\n"
   ]
  },
  {
   "cell_type": "code",
   "execution_count": 15,
   "id": "de0e561d-ddac-49a3-86f7-d831f5316d4f",
   "metadata": {},
   "outputs": [
    {
     "name": "stdout",
     "output_type": "stream",
     "text": [
      "['MOZZARELLA', 'Cinderella']\n"
     ]
    }
   ],
   "source": [
    "#7.7\n",
    "#Delete the last element in the list that refers to a disease:\n",
    "del things[2]\n",
    "#Display the updated list with the last element now deleted from the list:\n",
    "print (things)\n"
   ]
  },
  {
   "cell_type": "code",
   "execution_count": 17,
   "id": "294b5bcf-0f34-47f3-987b-e7b8d890f4c4",
   "metadata": {},
   "outputs": [
    {
     "name": "stdout",
     "output_type": "stream",
     "text": [
      "['Harry', 'Ron', 'Hermione']\n"
     ]
    }
   ],
   "source": [
    "#9.1\n",
    "#Initialize and define a function called good that returns the given list provided: \n",
    "def good ():\n",
    "    return ['Harry', 'Ron', 'Hermione']\n",
    "\n",
    "#Display the elements within the list by calling the function to be printed:\n",
    "print (good())\n"
   ]
  },
  {
   "cell_type": "code",
   "execution_count": 21,
   "id": "1fede3e7-15c6-4f1f-a68e-a545baeacfd9",
   "metadata": {},
   "outputs": [
    {
     "name": "stdout",
     "output_type": "stream",
     "text": [
      "5\n"
     ]
    }
   ],
   "source": [
    "#9.2\n",
    "# Initialize and define a function called get_odds\n",
    "#Make this function returns the odd numbers within the range(10)\n",
    "def get_odds ():\n",
    "    for number in range (10):\n",
    "        if number % 2 != 0:\n",
    "            yield number\n",
    "\n",
    "#Use a for loop to find and print the third value returned.\n",
    "odds = get_odds()      #Create a function to iterate through the odd numbers\n",
    "count = 0              #Initialize the count to 0\n",
    "for odd in odds:\n",
    "    count += 1          #Increase the count by 1\n",
    "    if count == 3:      #Until the condition is met that count equal the 3rd odd number\n",
    "        print(odd)      #Display that number \n",
    "        break           #Exit the loop\n"
   ]
  },
  {
   "cell_type": "code",
   "execution_count": null,
   "id": "1e17a008-1f71-4626-a3a1-e3b14c35ea49",
   "metadata": {},
   "outputs": [],
   "source": []
  }
 ],
 "metadata": {
  "kernelspec": {
   "display_name": "anaconda-2024.02-py310",
   "language": "python",
   "name": "conda-env-anaconda-2024.02-py310-py"
  },
  "language_info": {
   "codemirror_mode": {
    "name": "ipython",
    "version": 3
   },
   "file_extension": ".py",
   "mimetype": "text/x-python",
   "name": "python",
   "nbconvert_exporter": "python",
   "pygments_lexer": "ipython3",
   "version": "3.10.14"
  }
 },
 "nbformat": 4,
 "nbformat_minor": 5
}
